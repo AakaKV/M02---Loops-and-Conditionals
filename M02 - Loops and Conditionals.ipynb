{
 "cells": [
  {
   "cell_type": "code",
   "execution_count": 1,
   "id": "14ffa205",
   "metadata": {},
   "outputs": [
    {
     "name": "stdout",
     "output_type": "stream",
     "text": [
      "Too high!\n"
     ]
    }
   ],
   "source": [
    "#4.1 secret number guessing game.\n",
    "secret = 5\n",
    "guess = 6\n",
    "if guess > secret:\n",
    "    print(\"Too high!\")\n",
    "elif guess < secret:\n",
    "    print(\"Too low!\")\n",
    "else:\n",
    "    print(\"Just Right!\")"
   ]
  },
  {
   "cell_type": "code",
   "execution_count": 21,
   "id": "bff1896d",
   "metadata": {
    "scrolled": true
   },
   "outputs": [
    {
     "name": "stdout",
     "output_type": "stream",
     "text": [
      "True  A pea is small and green!\n",
      "True  A cherry is small but not green!\n",
      "False\n",
      "False off\n"
     ]
    }
   ],
   "source": [
    "#4.2 \n",
    "small = True\n",
    "green = True\n",
    "large = not small\n",
    "red = not green\n",
    "orange = not green and not red\n",
    "if pea:= small and green:\n",
    "    print(True,\" A pea is small and green!\")\n",
    "else:\n",
    "    print(False)\n",
    "if cherry:= small and red != small and green:\n",
    "    print(True,\" A cherry is small but not green!\")\n",
    "else:\n",
    "    print(False)\n",
    "#couldn't figure this out\n",
    "if pumpkin:= orange and large != small and red:\n",
    "    print(True,\" A pumpkin is not small or green!\")\n",
    "else:\n",
    "    print(False)\n",
    "#couldn't figure this out!\n",
    "if watermelon:= large and green != small and green:\n",
    "    print(False,\" A watermelon is not small but it is green!\")\n",
    "else:\n",
    "    print(False,\"off\")"
   ]
  },
  {
   "cell_type": "code",
   "execution_count": 22,
   "id": "31ef4f30",
   "metadata": {},
   "outputs": [
    {
     "name": "stdout",
     "output_type": "stream",
     "text": [
      "3\n",
      "2\n",
      "1\n",
      "0\n"
     ]
    }
   ],
   "source": [
    "#6.1\n",
    "liNum = [3, 2, 1, 0]\n",
    "for num in liNum:\n",
    "    print(num)"
   ]
  },
  {
   "cell_type": "code",
   "execution_count": 24,
   "id": "d625bcaa",
   "metadata": {},
   "outputs": [
    {
     "name": "stdout",
     "output_type": "stream",
     "text": [
      "Too low!\n",
      "Too low!\n",
      "Too low!\n",
      "Too low!\n",
      "Too low!\n",
      "Too low!\n",
      "found it!\n"
     ]
    }
   ],
   "source": [
    "#6.2\n",
    "guess_me = 7\n",
    "number = 1\n",
    "while number != guess_me+1:\n",
    "    if number > guess_me:\n",
    "        print(\"Too high!\")\n",
    "    elif number < guess_me:\n",
    "        print(\"Too low!\")\n",
    "    else:\n",
    "        print(\"found it!\")\n",
    "    number+= 1"
   ]
  },
  {
   "cell_type": "code",
   "execution_count": 28,
   "id": "08e1576d",
   "metadata": {},
   "outputs": [
    {
     "name": "stdout",
     "output_type": "stream",
     "text": [
      "Too low!\n",
      "Too low!\n",
      "Too low!\n",
      "Too low!\n",
      "Too low!\n",
      "found it!\n"
     ]
    }
   ],
   "source": [
    "#6.3\n",
    "guess_me = 5\n",
    "for number in range(10):\n",
    "    if number > guess_me:\n",
    "        print(\"Oops!\")\n",
    "        break\n",
    "    elif number < guess_me:\n",
    "        print(\"Too low!\")\n",
    "    else:\n",
    "        print(\"found it!\")\n",
    "        break"
   ]
  },
  {
   "cell_type": "code",
   "execution_count": null,
   "id": "aea0e8a7",
   "metadata": {},
   "outputs": [],
   "source": []
  }
 ],
 "metadata": {
  "kernelspec": {
   "display_name": "Python 3 (ipykernel)",
   "language": "python",
   "name": "python3"
  },
  "language_info": {
   "codemirror_mode": {
    "name": "ipython",
    "version": 3
   },
   "file_extension": ".py",
   "mimetype": "text/x-python",
   "name": "python",
   "nbconvert_exporter": "python",
   "pygments_lexer": "ipython3",
   "version": "3.9.12"
  }
 },
 "nbformat": 4,
 "nbformat_minor": 5
}
